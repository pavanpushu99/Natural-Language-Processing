{
  "nbformat": 4,
  "nbformat_minor": 0,
  "metadata": {
    "colab": {
      "provenance": [],
      "toc_visible": true
    },
    "kernelspec": {
      "name": "python3",
      "display_name": "Python 3"
    },
    "language_info": {
      "name": "python"
    }
  },
  "cells": [
    {
      "cell_type": "code",
      "source": [
        "##### Training Data\n",
        "import pandas as pd\n",
        "\n",
        "training = pd.read_csv(\"/content/drive/My Drive/labeledTrainData.tsv\", header=0, delimiter=\"\\t\", quoting=3)\n",
        "print(training.shape)\n",
        "\n",
        "# Get target variable\n",
        "y_train = training['sentiment']\n",
        "x_train = training.drop([\"sentiment\"], axis=1)\n",
        "\n",
        "training.head()\n",
        "x_train.head()\n",
        "y_train.head()"
      ],
      "metadata": {
        "id": "45h33FeKc4ig",
        "colab": {
          "base_uri": "https://localhost:8080/"
        },
        "outputId": "6d259653-ad33-4139-cfcd-aa9dd801ab94"
      },
      "execution_count": 2,
      "outputs": [
        {
          "output_type": "stream",
          "name": "stdout",
          "text": [
            "(25000, 3)\n"
          ]
        },
        {
          "output_type": "execute_result",
          "data": {
            "text/plain": [
              "0    1\n",
              "1    1\n",
              "2    0\n",
              "3    0\n",
              "4    1\n",
              "Name: sentiment, dtype: int64"
            ]
          },
          "metadata": {},
          "execution_count": 2
        }
      ]
    },
    {
      "cell_type": "code",
      "source": [
        "##### Data exploration\n",
        "# We check if the training dataset is balanced.\n",
        "y_train.value_counts()"
      ],
      "metadata": {
        "colab": {
          "base_uri": "https://localhost:8080/"
        },
        "id": "d4vPD4INWedo",
        "outputId": "bffa66a9-05a8-4a32-9de2-6ff4688eb36e"
      },
      "execution_count": 4,
      "outputs": [
        {
          "output_type": "execute_result",
          "data": {
            "text/plain": [
              "sentiment\n",
              "1    12500\n",
              "0    12500\n",
              "Name: count, dtype: int64"
            ]
          },
          "metadata": {},
          "execution_count": 4
        }
      ]
    },
    {
      "cell_type": "code",
      "source": [
        "###############################\n",
        "##### Data pre-processing #####\n",
        "###############################\n",
        "\n",
        "import nltk\n",
        "import numpy as np\n",
        "import matplotlib.pyplot as plt\n",
        "\n",
        "# Import list of stopwords from library NLTK\n",
        "from nltk.corpus import stopwords\n",
        "nltk.download('stopwords')"
      ],
      "metadata": {
        "id": "o_s0h2OMfPsZ",
        "colab": {
          "base_uri": "https://localhost:8080/"
        },
        "outputId": "bf2be030-ba63-46c4-ddd3-c5b04eaab037"
      },
      "execution_count": 5,
      "outputs": [
        {
          "output_type": "stream",
          "name": "stderr",
          "text": [
            "[nltk_data] Downloading package stopwords to /root/nltk_data...\n",
            "[nltk_data]   Unzipping corpora/stopwords.zip.\n"
          ]
        },
        {
          "output_type": "execute_result",
          "data": {
            "text/plain": [
              "True"
            ]
          },
          "metadata": {},
          "execution_count": 5
        }
      ]
    },
    {
      "cell_type": "code",
      "source": [
        "############################\n",
        "##### Remove Stopwords #####\n",
        "############################\n",
        "\n",
        "stopwords_list = stopwords.words(\"english\")\n",
        "print(f'List of stopwords:\\n{stopwords_list}\\n')\n",
        "\n",
        "\n",
        "# We remove negation words in list of stopwords\n",
        "no_stopwords = [\"not\",\"don't\",'aren','don','ain',\"aren't\", 'couldn', \"couldn't\", 'didn', \"didn't\", 'doesn', \"doesn't\", 'hadn', \"hadn't\", 'hasn', \"hasn't\", 'haven', \"haven't\", 'isn', \"isn't\",\n",
        "               'ma', 'mightn', \"mightn't\", 'mustn', \"mustn't\", 'needn', \"needn't\", 'shan', \"shan't\", 'shouldn', \"shouldn't\", 'wasn', \"wasn't\", 'weren', \"weren't\",\n",
        "               \"won't\", 'wouldn', \"wouldn't\"]\n",
        "for no_stopword in no_stopwords:\n",
        "    stopwords_list.remove(no_stopword)\n",
        "\n",
        "print(f'Final list of stopwords:\\n{stopwords_list}')"
      ],
      "metadata": {
        "id": "fPp4hQh4gHBL",
        "colab": {
          "base_uri": "https://localhost:8080/"
        },
        "outputId": "f9dfcf8d-e8e1-42a5-9787-654887e87717"
      },
      "execution_count": 6,
      "outputs": [
        {
          "output_type": "stream",
          "name": "stdout",
          "text": [
            "List of stopwords:\n",
            "['i', 'me', 'my', 'myself', 'we', 'our', 'ours', 'ourselves', 'you', \"you're\", \"you've\", \"you'll\", \"you'd\", 'your', 'yours', 'yourself', 'yourselves', 'he', 'him', 'his', 'himself', 'she', \"she's\", 'her', 'hers', 'herself', 'it', \"it's\", 'its', 'itself', 'they', 'them', 'their', 'theirs', 'themselves', 'what', 'which', 'who', 'whom', 'this', 'that', \"that'll\", 'these', 'those', 'am', 'is', 'are', 'was', 'were', 'be', 'been', 'being', 'have', 'has', 'had', 'having', 'do', 'does', 'did', 'doing', 'a', 'an', 'the', 'and', 'but', 'if', 'or', 'because', 'as', 'until', 'while', 'of', 'at', 'by', 'for', 'with', 'about', 'against', 'between', 'into', 'through', 'during', 'before', 'after', 'above', 'below', 'to', 'from', 'up', 'down', 'in', 'out', 'on', 'off', 'over', 'under', 'again', 'further', 'then', 'once', 'here', 'there', 'when', 'where', 'why', 'how', 'all', 'any', 'both', 'each', 'few', 'more', 'most', 'other', 'some', 'such', 'no', 'nor', 'not', 'only', 'own', 'same', 'so', 'than', 'too', 'very', 's', 't', 'can', 'will', 'just', 'don', \"don't\", 'should', \"should've\", 'now', 'd', 'll', 'm', 'o', 're', 've', 'y', 'ain', 'aren', \"aren't\", 'couldn', \"couldn't\", 'didn', \"didn't\", 'doesn', \"doesn't\", 'hadn', \"hadn't\", 'hasn', \"hasn't\", 'haven', \"haven't\", 'isn', \"isn't\", 'ma', 'mightn', \"mightn't\", 'mustn', \"mustn't\", 'needn', \"needn't\", 'shan', \"shan't\", 'shouldn', \"shouldn't\", 'wasn', \"wasn't\", 'weren', \"weren't\", 'won', \"won't\", 'wouldn', \"wouldn't\"]\n",
            "\n",
            "Final list of stopwords:\n",
            "['i', 'me', 'my', 'myself', 'we', 'our', 'ours', 'ourselves', 'you', \"you're\", \"you've\", \"you'll\", \"you'd\", 'your', 'yours', 'yourself', 'yourselves', 'he', 'him', 'his', 'himself', 'she', \"she's\", 'her', 'hers', 'herself', 'it', \"it's\", 'its', 'itself', 'they', 'them', 'their', 'theirs', 'themselves', 'what', 'which', 'who', 'whom', 'this', 'that', \"that'll\", 'these', 'those', 'am', 'is', 'are', 'was', 'were', 'be', 'been', 'being', 'have', 'has', 'had', 'having', 'do', 'does', 'did', 'doing', 'a', 'an', 'the', 'and', 'but', 'if', 'or', 'because', 'as', 'until', 'while', 'of', 'at', 'by', 'for', 'with', 'about', 'against', 'between', 'into', 'through', 'during', 'before', 'after', 'above', 'below', 'to', 'from', 'up', 'down', 'in', 'out', 'on', 'off', 'over', 'under', 'again', 'further', 'then', 'once', 'here', 'there', 'when', 'where', 'why', 'how', 'all', 'any', 'both', 'each', 'few', 'more', 'most', 'other', 'some', 'such', 'no', 'nor', 'only', 'own', 'same', 'so', 'than', 'too', 'very', 's', 't', 'can', 'will', 'just', 'should', \"should've\", 'now', 'd', 'll', 'm', 'o', 're', 've', 'y', 'won']\n"
          ]
        }
      ]
    },
    {
      "cell_type": "code",
      "source": [
        "#############################\n",
        "##### Lemmatize reviews #####\n",
        "#############################\n",
        "\n",
        "# Import Lemmatizer from NLTK\n",
        "from nltk.stem import WordNetLemmatizer\n",
        "nltk.download('wordnet')\n",
        "\n",
        "lemmatizer = WordNetLemmatizer()\n",
        "\n",
        "# function that receive a list of words and do lemmatization:\n",
        "def lemma_stem_text(words_list):\n",
        "    # Lemmatizer\n",
        "    text = [lemmatizer.lemmatize(token.lower()) for token in words_list] # eighties->eight or messages->message or drugs->drug\n",
        "    text = [lemmatizer.lemmatize(token.lower(), \"v\") for token in text ]# going-> go or started->start or watching->watch\n",
        "    return text\n",
        "\n",
        "word_example = \"feet\"\n",
        "print(f'The word \"{word_example}\" is transformed to \"{lemma_stem_text([word_example])[0]}\"')"
      ],
      "metadata": {
        "id": "8QecKLfPomur",
        "colab": {
          "base_uri": "https://localhost:8080/"
        },
        "outputId": "75ad6997-2ed8-4286-8110-45411004656d"
      },
      "execution_count": 7,
      "outputs": [
        {
          "output_type": "stream",
          "name": "stderr",
          "text": [
            "[nltk_data] Downloading package wordnet to /root/nltk_data...\n"
          ]
        },
        {
          "output_type": "stream",
          "name": "stdout",
          "text": [
            "The word \"feet\" is transformed to \"foot\"\n"
          ]
        }
      ]
    },
    {
      "cell_type": "code",
      "source": [
        "###########################\n",
        "##### Review Cleaning #####\n",
        "###########################\n",
        "\n",
        "# create a function to clean the text of a review using the functions defined previously.\n",
        "\n",
        "# Import function BeautifulSoup to clean text of HTML tags\n",
        "from bs4 import BeautifulSoup\n",
        "from nltk.tokenize import RegexpTokenizer\n",
        "from nltk.tokenize import word_tokenize\n",
        "nltk.download('punkt')\n",
        "\n",
        "def review_to_words(raw_review):\n",
        "    # 1. Remove HTML tags\n",
        "    review_text = BeautifulSoup(raw_review).get_text()\n",
        "\n",
        "    # 2. Transform abbreviated negations to the standard form.\n",
        "    review_text = negation_abbreviated_to_standard(review_text)\n",
        "\n",
        "    # 3. Remove non-letters and non-numbers\n",
        "    tokenizer = RegexpTokenizer(r'\\w+')\n",
        "    words = tokenizer.tokenize(review_text)\n",
        "\n",
        "    # 4. Remove stop words\n",
        "    meaningful_words = [w for w in words if w.lower() not in stopwords_list]\n",
        "\n",
        "    # 5. Apply lemmatization function\n",
        "    lemma_words = lemma_stem_text(meaningful_words)\n",
        "\n",
        "    # 6. Join the words back into one string separated by space, and return the result.\n",
        "    return( \" \".join(lemma_words))"
      ],
      "metadata": {
        "id": "Inf0Df-Jw_Gk",
        "colab": {
          "base_uri": "https://localhost:8080/"
        },
        "outputId": "8655d17c-5543-404c-d262-d72734fa84b6"
      },
      "execution_count": 8,
      "outputs": [
        {
          "output_type": "stream",
          "name": "stderr",
          "text": [
            "[nltk_data] Downloading package punkt to /root/nltk_data...\n",
            "[nltk_data]   Unzipping tokenizers/punkt.zip.\n"
          ]
        }
      ]
    },
    {
      "cell_type": "code",
      "source": [
        "#################################\n",
        "##### Clean for ALL reviews #####\n",
        "#################################\n",
        "import re\n",
        "re_negation = re.compile(\"n't \") # specify a pattern you want to find in a string\n",
        "\n",
        "# function that receive a sequence of words and return the same sequence transforming\n",
        "# abbreviated negations to the standard form.\n",
        "def negation_abbreviated_to_standard(sent):\n",
        "    sent = re_negation.sub(\" not \", sent)\n",
        "    return sent\n",
        "\n",
        "# We get the text of reviews in the training set\n",
        "reviews = x_train['review']\n",
        "\n",
        "# We initialize an empty list to add the clean reviews\n",
        "cleaned_train_reviews = []\n",
        "\n",
        "# We loop over each review and clean it\n",
        "for i in reviews:\n",
        "    cleaned_train_reviews.append(review_to_words(i))"
      ],
      "metadata": {
        "id": "efDpO_YI2kAB",
        "colab": {
          "base_uri": "https://localhost:8080/"
        },
        "outputId": "120baaa5-8d22-437d-8a70-e6f92c11fe46"
      },
      "execution_count": 9,
      "outputs": [
        {
          "output_type": "stream",
          "name": "stderr",
          "text": [
            "<ipython-input-8-595a4f7ddf88>:15: MarkupResemblesLocatorWarning: The input looks more like a filename than markup. You may want to open this file and pass the filehandle into Beautiful Soup.\n",
            "  review_text = BeautifulSoup(raw_review).get_text()\n",
            "<ipython-input-8-595a4f7ddf88>:15: MarkupResemblesLocatorWarning: The input looks more like a filename than markup. You may want to open this file and pass the filehandle into Beautiful Soup.\n",
            "  review_text = BeautifulSoup(raw_review).get_text()\n",
            "<ipython-input-8-595a4f7ddf88>:15: MarkupResemblesLocatorWarning: The input looks more like a filename than markup. You may want to open this file and pass the filehandle into Beautiful Soup.\n",
            "  review_text = BeautifulSoup(raw_review).get_text()\n"
          ]
        }
      ]
    },
    {
      "cell_type": "markdown",
      "source": [
        "Q1. Try with unigram TF-IDF matrix and check its accuracy on the validation set"
      ],
      "metadata": {
        "id": "wmqJeVL_kP2D"
      }
    },
    {
      "cell_type": "code",
      "source": [
        "###################################################\n",
        "# Vectorization: Create Unigram TF-IDF matrix #####\n",
        "###################################################\n",
        "\n",
        "# Import tf-idf encoding from sklearn library\n",
        "from sklearn.feature_extraction.text import TfidfVectorizer\n",
        "\n",
        "# Define some hyperparameters of encoded\n",
        "vectorizer1 = TfidfVectorizer(max_features=25000, ngram_range = (1,1))\n",
        "\n",
        "# Create the training set with the words encoded as features of the reviews\n",
        "train_data_features1 = vectorizer1.fit_transform(cleaned_train_reviews)"
      ],
      "metadata": {
        "id": "RwbwOFPS2yMW"
      },
      "execution_count": 10,
      "outputs": []
    },
    {
      "cell_type": "code",
      "source": [
        "print(\"Shapes before train-test split:\")\n",
        "print(\"train_data_features shape:\", train_data_features1.shape)\n",
        "print(\"y_train length:\", len(y_train))"
      ],
      "metadata": {
        "colab": {
          "base_uri": "https://localhost:8080/"
        },
        "outputId": "a3841ed9-36f3-4cdf-c7fd-3eea07d492c9",
        "id": "0SOArYTDo1Ft"
      },
      "execution_count": 11,
      "outputs": [
        {
          "output_type": "stream",
          "name": "stdout",
          "text": [
            "Shapes before train-test split:\n",
            "train_data_features shape: (25000, 25000)\n",
            "y_train length: 25000\n"
          ]
        }
      ]
    },
    {
      "cell_type": "code",
      "source": [
        "# We split train dataset to create validation set and training the Logistic Regression Model on validation set\n",
        "from sklearn.model_selection import train_test_split\n",
        "X_train1, X_val1, Y_train1, Y_val1 = train_test_split(train_data_features1, y_train, test_size=0.2,random_state=0)"
      ],
      "metadata": {
        "id": "nG46Lmh2JglN"
      },
      "execution_count": 12,
      "outputs": []
    },
    {
      "cell_type": "code",
      "source": [
        "from sklearn.linear_model import LogisticRegression\n",
        "\n",
        "# Initialize a logistic regression model\n",
        "logistic1 = LogisticRegression(random_state=0)\n",
        "# Train the model\n",
        "logistic1 = logistic1.fit(X_train1, Y_train1)\n",
        "# Print score of model(using validation dataset)\n",
        "print(logistic1.score(X_val1, Y_val1)) # accuracy"
      ],
      "metadata": {
        "id": "0EE9Kfk9JsYd",
        "colab": {
          "base_uri": "https://localhost:8080/"
        },
        "outputId": "2c855275-9c53-4d7f-eb9c-fd78aa4a31db"
      },
      "execution_count": 13,
      "outputs": [
        {
          "output_type": "stream",
          "name": "stdout",
          "text": [
            "0.893\n"
          ]
        }
      ]
    },
    {
      "cell_type": "code",
      "source": [
        "#Confusion Matrix\n",
        "from sklearn.metrics import confusion_matrix\n",
        "Y_pred_logistic1  = logistic1.predict(X_val1)\n",
        "confusion_matrix_logistic1 = confusion_matrix(Y_val1, Y_pred_logistic1, labels=[1,0])\n",
        "confusion_matrix_logistic1"
      ],
      "metadata": {
        "id": "-VisyE3bLxKR",
        "colab": {
          "base_uri": "https://localhost:8080/"
        },
        "outputId": "3413af04-9c2e-400b-aaff-2d3e87f4e24c"
      },
      "execution_count": 14,
      "outputs": [
        {
          "output_type": "execute_result",
          "data": {
            "text/plain": [
              "array([[2219,  233],\n",
              "       [ 302, 2246]])"
            ]
          },
          "metadata": {},
          "execution_count": 14
        }
      ]
    },
    {
      "cell_type": "code",
      "source": [
        "# plot the confusion matrix\n",
        "import seaborn as sns\n",
        "ax = plt.axes()\n",
        "sns.heatmap(confusion_matrix_logistic1, annot=True, fmt=\"d\")\n",
        "ax.set_title('Confusion matrix Logistic Regression')"
      ],
      "metadata": {
        "id": "-QSEDStkMM0C",
        "colab": {
          "base_uri": "https://localhost:8080/",
          "height": 469
        },
        "outputId": "e44d1347-f376-46c5-8dc6-d6c58d9e1680"
      },
      "execution_count": 15,
      "outputs": [
        {
          "output_type": "execute_result",
          "data": {
            "text/plain": [
              "Text(0.5, 1.0, 'Confusion matrix Logistic Regression')"
            ]
          },
          "metadata": {},
          "execution_count": 15
        },
        {
          "output_type": "display_data",
          "data": {
            "text/plain": [
              "<Figure size 640x480 with 2 Axes>"
            ],
            "image/png": "[encoded data removed]"
          },
          "metadata": {}
        }
      ]
    },
    {
      "cell_type": "markdown",
      "source": [
        "Try with bigram TF-IDF matrix and check its accuracy on the validation set"
      ],
      "metadata": {
        "id": "xNZYH18XkjLQ"
      }
    },
    {
      "cell_type": "code",
      "source": [
        "##################################################\n",
        "# Vectorization: Create Bigram TF-IDF matrix #####\n",
        "##################################################\n",
        "\n",
        "# Import tf-idf encoding from sklearn library\n",
        "from sklearn.feature_extraction.text import TfidfVectorizer\n",
        "\n",
        "# Define some hyperparameters of encoded\n",
        "vectorizer2 = TfidfVectorizer(max_features=25000, ngram_range = (2,2))\n",
        "\n",
        "# Create the training set with the words encoded as features of the reviews\n",
        "train_data_features2 = vectorizer2.fit_transform(cleaned_train_reviews)"
      ],
      "metadata": {
        "id": "QQfWXhpxrVSX"
      },
      "execution_count": 16,
      "outputs": []
    },
    {
      "cell_type": "code",
      "source": [
        "print(\"Shapes before train-test split:\")\n",
        "print(\"train_data_features shape:\", train_data_features2.shape)\n",
        "print(\"y_train length:\", len(y_train))"
      ],
      "metadata": {
        "colab": {
          "base_uri": "https://localhost:8080/"
        },
        "outputId": "ec5b002f-a17a-4ea0-acc9-4f37891c0b82",
        "id": "OiT_6NZrrfaS"
      },
      "execution_count": 17,
      "outputs": [
        {
          "output_type": "stream",
          "name": "stdout",
          "text": [
            "Shapes before train-test split:\n",
            "train_data_features shape: (25000, 25000)\n",
            "y_train length: 25000\n"
          ]
        }
      ]
    },
    {
      "cell_type": "code",
      "source": [
        "# We split train dataset to create validation set and training the Logistic Regression Model on validation set\n",
        "from sklearn.model_selection import train_test_split\n",
        "X_train2, X_val2, Y_train2, Y_val2 = train_test_split(train_data_features2, y_train, test_size=0.2, random_state=0)"
      ],
      "metadata": {
        "id": "WKEVHsDer7yM"
      },
      "execution_count": 18,
      "outputs": []
    },
    {
      "cell_type": "code",
      "source": [
        "from sklearn.linear_model import LogisticRegression\n",
        "\n",
        "# Initialize a logistic regression model\n",
        "logistic2 = LogisticRegression(random_state=0)\n",
        "# Train the model\n",
        "logistic2 = logistic2.fit(X_train2, Y_train2)\n",
        "# Print score of model(using validation dataset)\n",
        "print(logistic2.score(X_val2, Y_val2)) # accuracy"
      ],
      "metadata": {
        "colab": {
          "base_uri": "https://localhost:8080/"
        },
        "outputId": "810c203b-e138-439d-f026-601093fde5fb",
        "id": "_Tqv6eaVvQLN"
      },
      "execution_count": 19,
      "outputs": [
        {
          "output_type": "stream",
          "name": "stdout",
          "text": [
            "0.8636\n"
          ]
        }
      ]
    },
    {
      "cell_type": "code",
      "source": [
        "#Confusion Matrix\n",
        "from sklearn.metrics import confusion_matrix\n",
        "Y_pred_logistic2  = logistic2.predict(X_val2)\n",
        "confusion_matrix_logistic2 = confusion_matrix(Y_val2, Y_pred_logistic2, labels=[1,0])\n",
        "confusion_matrix_logistic2"
      ],
      "metadata": {
        "colab": {
          "base_uri": "https://localhost:8080/"
        },
        "outputId": "d6b0f3bb-e58d-4cad-e1bf-c66f5280b5b9",
        "id": "bJSSYVlUvU-q"
      },
      "execution_count": 20,
      "outputs": [
        {
          "output_type": "execute_result",
          "data": {
            "text/plain": [
              "array([[2188,  264],\n",
              "       [ 418, 2130]])"
            ]
          },
          "metadata": {},
          "execution_count": 20
        }
      ]
    },
    {
      "cell_type": "code",
      "source": [
        "# plot the confusion matrix\n",
        "import seaborn as sns\n",
        "ax = plt.axes()\n",
        "sns.heatmap(confusion_matrix_logistic2, annot=True, fmt=\"d\")\n",
        "ax.set_title('Confusion matrix Logistic Regression')"
      ],
      "metadata": {
        "colab": {
          "base_uri": "https://localhost:8080/",
          "height": 469
        },
        "outputId": "48573f8a-e3c1-4bbc-d7a6-5aadd5506082",
        "id": "RO1A49lcveDt"
      },
      "execution_count": 21,
      "outputs": [
        {
          "output_type": "execute_result",
          "data": {
            "text/plain": [
              "Text(0.5, 1.0, 'Confusion matrix Logistic Regression')"
            ]
          },
          "metadata": {},
          "execution_count": 21
        },
        {
          "output_type": "display_data",
          "data": {
            "text/plain": [
              "<Figure size 640x480 with 2 Axes>"
            ],
            "image/png": "[encoded data removed]"
          },
          "metadata": {}
        }
      ]
    },
    {
      "cell_type": "markdown",
      "source": [
        "Q2. Try with Bigram Document Term matrix(DTM) and check its accuracy on the validation set."
      ],
      "metadata": {
        "id": "kCxIlT4XTJ67"
      }
    },
    {
      "cell_type": "code",
      "source": [
        "#########################################################\n",
        "# Vectorization: Create Bigram Document Term Matrix #####\n",
        "#########################################################\n",
        "\n",
        "from sklearn.feature_extraction.text import CountVectorizer\n",
        "\n",
        "# Initialize CountVectorizer for Bigrams\n",
        "c2 = CountVectorizer(stop_words='english', lowercase=True, token_pattern=r'\\w+', max_features=25000, ngram_range=(2, 2))\n",
        "\n",
        "# Fit and transform y_train to generate the Bigram DTM\n",
        "bigram_dtm_matrix = c2.fit_transform(cleaned_train_reviews)\n",
        "\n",
        "train_data_features4 = bigram_dtm_matrix"
      ],
      "metadata": {
        "id": "Jf6C_tYpCKEI"
      },
      "execution_count": 22,
      "outputs": []
    },
    {
      "cell_type": "code",
      "source": [
        "print(\"Shapes before train-test split:\")\n",
        "print(\"train_data_features shape:\", train_data_features4.shape)\n",
        "print(\"y_train length:\", len(y_train))"
      ],
      "metadata": {
        "colab": {
          "base_uri": "https://localhost:8080/"
        },
        "outputId": "0a083c5e-8a96-45ef-fa04-2665a6d60c7f",
        "id": "Hd4GBDUZCetL"
      },
      "execution_count": 23,
      "outputs": [
        {
          "output_type": "stream",
          "name": "stdout",
          "text": [
            "Shapes before train-test split:\n",
            "train_data_features shape: (25000, 25000)\n",
            "y_train length: 25000\n"
          ]
        }
      ]
    },
    {
      "cell_type": "code",
      "source": [
        "# We split train dataset to create validation set and training the Logistic Regression Model on validation set\n",
        "from sklearn.model_selection import train_test_split\n",
        "X_train4, X_val4, Y_train4, Y_val4 = train_test_split(train_data_features4, y_train, test_size=0.2, random_state=0)"
      ],
      "metadata": {
        "id": "3oqJpIyvClnR"
      },
      "execution_count": 24,
      "outputs": []
    },
    {
      "cell_type": "code",
      "source": [
        "from sklearn.linear_model import LogisticRegression\n",
        "\n",
        "# Initialize a logistic regression model\n",
        "logistic4 = LogisticRegression(random_state=0,max_iter=1000)\n",
        "# Train the model\n",
        "logistic4 = logistic4.fit(X_train4, Y_train4)\n",
        "# Print score of model(using validation dataset)\n",
        "print(logistic4.score(X_val4, Y_val4)) # accuracy"
      ],
      "metadata": {
        "colab": {
          "base_uri": "https://localhost:8080/"
        },
        "outputId": "2b229916-ee0b-4952-a50a-0a075935d2cf",
        "id": "SpbC7ZSsCrwt"
      },
      "execution_count": 25,
      "outputs": [
        {
          "output_type": "stream",
          "name": "stdout",
          "text": [
            "0.8382\n"
          ]
        }
      ]
    },
    {
      "cell_type": "code",
      "source": [
        "#Confusion Matrix\n",
        "from sklearn.metrics import confusion_matrix\n",
        "Y_pred_logistic4  = logistic4.predict(X_val4)\n",
        "confusion_matrix_logistic4 = confusion_matrix(Y_val4, Y_pred_logistic4, labels=[1,0])\n",
        "confusion_matrix_logistic4"
      ],
      "metadata": {
        "colab": {
          "base_uri": "https://localhost:8080/"
        },
        "outputId": "6a0be0b2-6253-4082-9815-dbe2c243062a",
        "id": "bbTUnoRrCxEu"
      },
      "execution_count": 26,
      "outputs": [
        {
          "output_type": "execute_result",
          "data": {
            "text/plain": [
              "array([[2083,  369],\n",
              "       [ 440, 2108]])"
            ]
          },
          "metadata": {},
          "execution_count": 26
        }
      ]
    },
    {
      "cell_type": "code",
      "source": [
        "# plot the confusion matrix\n",
        "import seaborn as sns\n",
        "ax = plt.axes()\n",
        "sns.heatmap(confusion_matrix_logistic4, annot=True, fmt=\"d\")\n",
        "ax.set_title('Confusion matrix Logistic Regression')"
      ],
      "metadata": {
        "colab": {
          "base_uri": "https://localhost:8080/",
          "height": 469
        },
        "outputId": "db0cf35c-60fc-4322-a9e5-ed1812bf672a",
        "id": "-I86Mhy1C3P-"
      },
      "execution_count": 27,
      "outputs": [
        {
          "output_type": "execute_result",
          "data": {
            "text/plain": [
              "Text(0.5, 1.0, 'Confusion matrix Logistic Regression')"
            ]
          },
          "metadata": {},
          "execution_count": 27
        },
        {
          "output_type": "display_data",
          "data": {
            "text/plain": [
              "<Figure size 640x480 with 2 Axes>"
            ],
            "image/png": "[encoded data removed]"
          },
          "metadata": {}
        }
      ]
    },
    {
      "cell_type": "markdown",
      "source": [
        "Q3. Try with unigram Document Term matrix(DTM) and check its accuracy on the validation set"
      ],
      "metadata": {
        "id": "fLnbV1IQ3j9c"
      }
    },
    {
      "cell_type": "code",
      "source": [
        "#########################################################\n",
        "# Vectorization: Create Unigram Document Term Matrix #####\n",
        "#########################################################\n",
        "\n",
        "from sklearn.feature_extraction.text import CountVectorizer\n",
        "\n",
        "# Initialize CountVectorizer for unigrams\n",
        "c1 = CountVectorizer(stop_words='english', lowercase=True, token_pattern=r'\\w+', max_features=25000, ngram_range=(1, 1))\n",
        "\n",
        "# Fit and transform y_train to generate the unigram DTM\n",
        "unigram_dtm_matrix = c1.fit_transform(cleaned_train_reviews)\n",
        "\n",
        "train_data_features3 = unigram_dtm_matrix"
      ],
      "metadata": {
        "id": "KlP3BMM54Hmc"
      },
      "execution_count": 28,
      "outputs": []
    },
    {
      "cell_type": "code",
      "source": [
        "print(\"Shapes before train-test split:\")\n",
        "print(\"train_data_features shape:\", train_data_features3.shape)\n",
        "print(\"y_train length:\", len(y_train))"
      ],
      "metadata": {
        "colab": {
          "base_uri": "https://localhost:8080/"
        },
        "outputId": "4a49c70c-2fb3-4b9a-8000-487377031f64",
        "id": "i-1ZW4Ck4q_n"
      },
      "execution_count": 29,
      "outputs": [
        {
          "output_type": "stream",
          "name": "stdout",
          "text": [
            "Shapes before train-test split:\n",
            "train_data_features shape: (25000, 25000)\n",
            "y_train length: 25000\n"
          ]
        }
      ]
    },
    {
      "cell_type": "code",
      "source": [
        "# We split train dataset to create validation set and training the Logistic Regression Model on validation set\n",
        "from sklearn.model_selection import train_test_split\n",
        "X_train3, X_val3, Y_train3, Y_val3 = train_test_split(train_data_features3, y_train, test_size=0.2, random_state=0)"
      ],
      "metadata": {
        "id": "iWzAdycd5xD-"
      },
      "execution_count": 30,
      "outputs": []
    },
    {
      "cell_type": "code",
      "source": [
        "from sklearn.linear_model import LogisticRegression\n",
        "\n",
        "# Initialize a logistic regression model\n",
        "logistic3 = LogisticRegression(random_state=0,max_iter=1000)\n",
        "# Train the model\n",
        "logistic3 = logistic3.fit(X_train3, Y_train3)\n",
        "# Print score of model(using validation dataset)\n",
        "print(logistic3.score(X_val3, Y_val3)) # accuracy"
      ],
      "metadata": {
        "id": "SWprgZZb52ZU",
        "colab": {
          "base_uri": "https://localhost:8080/"
        },
        "outputId": "b859f77a-4872-41a3-abc1-e53473388ed4"
      },
      "execution_count": 31,
      "outputs": [
        {
          "output_type": "stream",
          "name": "stdout",
          "text": [
            "0.8676\n"
          ]
        }
      ]
    },
    {
      "cell_type": "code",
      "source": [
        "#Confusion Matrix\n",
        "from sklearn.metrics import confusion_matrix\n",
        "Y_pred_logistic3  = logistic3.predict(X_val3)\n",
        "confusion_matrix_logistic3 = confusion_matrix(Y_val3, Y_pred_logistic3, labels=[1,0])\n",
        "confusion_matrix_logistic3"
      ],
      "metadata": {
        "colab": {
          "base_uri": "https://localhost:8080/"
        },
        "outputId": "c141b876-f5d3-4cf8-8c21-4d45c1c7bf22",
        "id": "g8zJQujSBrc9"
      },
      "execution_count": 32,
      "outputs": [
        {
          "output_type": "execute_result",
          "data": {
            "text/plain": [
              "array([[2143,  309],\n",
              "       [ 353, 2195]])"
            ]
          },
          "metadata": {},
          "execution_count": 32
        }
      ]
    },
    {
      "cell_type": "code",
      "source": [
        "# plot the confusion matrix\n",
        "import seaborn as sns\n",
        "ax = plt.axes()\n",
        "sns.heatmap(confusion_matrix_logistic3, annot=True, fmt=\"d\")\n",
        "ax.set_title('Confusion matrix Logistic Regression')"
      ],
      "metadata": {
        "colab": {
          "base_uri": "https://localhost:8080/",
          "height": 469
        },
        "outputId": "42ac43db-ee38-4c17-f17d-458e00f434ee",
        "id": "YsySQ7wsBvqI"
      },
      "execution_count": 33,
      "outputs": [
        {
          "output_type": "execute_result",
          "data": {
            "text/plain": [
              "Text(0.5, 1.0, 'Confusion matrix Logistic Regression')"
            ]
          },
          "metadata": {},
          "execution_count": 33
        },
        {
          "output_type": "display_data",
          "data": {
            "text/plain": [
              "<Figure size 640x480 with 2 Axes>"
            ],
            "image/png": "[encoded data removed]"
          },
          "metadata": {}
        }
      ]
    },
    {
      "cell_type": "markdown",
      "source": [
        "Q4. Repeat Q1, Q2, Q3 for 2 more different random_state numbers and report accuracy for each case. (e.g. change random_state = 0 to random_state = 1111)"
      ],
      "metadata": {
        "id": "JBw2dzjsV6Gj"
      }
    },
    {
      "cell_type": "markdown",
      "source": [
        "Unigram TF-IDF with random_state = 99 & 699"
      ],
      "metadata": {
        "id": "zo_Z26TaWJVE"
      }
    },
    {
      "cell_type": "code",
      "source": [
        "from sklearn.model_selection import train_test_split\n",
        "from sklearn.linear_model import LogisticRegression\n",
        "\n",
        "#split the data with different random numbers i.e.random_state = 99 & 699\n",
        "X_train11, X_val11, Y_train11, Y_val11 = train_test_split(train_data_features1, y_train, test_size=0.2, random_state=99)\n",
        "X_train12, X_val12, Y_train12, Y_val12 = train_test_split(train_data_features1, y_train, test_size=0.2, random_state=699)\n",
        "\n",
        "# Initialize a logistic regression model with random_state = 99 & 699\n",
        "#There isn't any change in accuracy by changing the random_state number in logistic regression line\n",
        "# To avoid confusion i used the same number in both the cases for every model\n",
        "logistic11 = LogisticRegression(random_state=99)\n",
        "logistic12 = LogisticRegression(random_state=699)\n",
        "\n",
        "# Train the model\n",
        "logistic11 = logistic11.fit(X_train11, Y_train11)\n",
        "logistic12 = logistic12.fit(X_train12, Y_train12)\n",
        "\n",
        "# Print score of model(using validation dataset)\n",
        "print(\"Unigram TF-IDF : Accuracy with random_state number 99 is :\", logistic11.score(X_val11, Y_val11)) # accuracy\n",
        "print(\"Unigram TF-IDF : Accuracy with random_state number 699 is :\", logistic12.score(X_val12, Y_val12)) # accuracy"
      ],
      "metadata": {
        "colab": {
          "base_uri": "https://localhost:8080/"
        },
        "outputId": "dbd9d53b-8d60-4252-a83b-d6b9fd60fc34",
        "id": "xVpSPAqrXFCH"
      },
      "execution_count": 39,
      "outputs": [
        {
          "output_type": "stream",
          "name": "stdout",
          "text": [
            "Unigram TF-IDF : Accuracy with random_state number 99 is : 0.8836\n",
            "Unigram TF-IDF : Accuracy with random_state number 699 is : 0.89\n"
          ]
        }
      ]
    },
    {
      "cell_type": "markdown",
      "source": [
        "Bigram TF-IDF with random_state = 99 & 699"
      ],
      "metadata": {
        "id": "DfT2cu8gdbdq"
      }
    },
    {
      "cell_type": "code",
      "source": [
        "from sklearn.model_selection import train_test_split\n",
        "from sklearn.linear_model import LogisticRegression\n",
        "\n",
        "#split the data with different random numbers i.e.random_state = 99 & 699\n",
        "X_train21, X_val21, Y_train21, Y_val21 = train_test_split(train_data_features2, y_train, test_size=0.2, random_state=99)\n",
        "X_train22, X_val22, Y_train22, Y_val22 = train_test_split(train_data_features2, y_train, test_size=0.2, random_state=699)\n",
        "\n",
        "# Initialize a logistic regression model with random_state = 99 & 699\n",
        "logistic21 = LogisticRegression(random_state=99)\n",
        "logistic22 = LogisticRegression(random_state=699)\n",
        "\n",
        "# Train the model\n",
        "logistic21 = logistic21.fit(X_train21, Y_train21)\n",
        "logistic22 = logistic22.fit(X_train22, Y_train22)\n",
        "\n",
        "# Print score of model(using validation dataset)\n",
        "print(\"Bigram TF-IDF : Accuracy with random_state number 99 is :\", logistic21.score(X_val21, Y_val21)) # accuracy\n",
        "print(\"Bigram TF-IDF : Accuracy with random_state number 699 is :\", logistic22.score(X_val22, Y_val22)) # accuracy"
      ],
      "metadata": {
        "colab": {
          "base_uri": "https://localhost:8080/"
        },
        "outputId": "e180a593-6bfa-4fb2-c8a0-8939c4dfbe7c",
        "id": "giIy0h3qdYRJ"
      },
      "execution_count": 38,
      "outputs": [
        {
          "output_type": "stream",
          "name": "stdout",
          "text": [
            "Bigram TF-IDF : Accuracy with random_state number 99 is : 0.8586\n",
            "Bigram TF-IDF : Accuracy with random_state number 699 is : 0.8572\n"
          ]
        }
      ]
    },
    {
      "cell_type": "markdown",
      "source": [
        "Unigram Document Term Matrix(DTM) with random_state = 99 & 699"
      ],
      "metadata": {
        "id": "ObdYY9oneBOT"
      }
    },
    {
      "cell_type": "code",
      "source": [
        "from sklearn.model_selection import train_test_split\n",
        "from sklearn.linear_model import LogisticRegression\n",
        "\n",
        "#split the data with different random numbers i.e.random_state = 99 & 699\n",
        "X_train31, X_val31, Y_train31, Y_val31 = train_test_split(train_data_features3, y_train, test_size=0.2, random_state=99)\n",
        "X_train32, X_val32, Y_train32, Y_val32 = train_test_split(train_data_features3, y_train, test_size=0.2, random_state=699)\n",
        "\n",
        "# Initialize a logistic regression model with random_state = 99 & 699\n",
        "logistic31 = LogisticRegression(random_state=99,max_iter=1000)\n",
        "logistic32 = LogisticRegression(random_state=699,max_iter=1000)\n",
        "\n",
        "# Train the model\n",
        "logistic31 = logistic31.fit(X_train31, Y_train31)\n",
        "logistic32 = logistic32.fit(X_train32, Y_train32)\n",
        "\n",
        "# Print score of model(using validation dataset)\n",
        "print(\"Unigram DTM : Accuracy with random_state number 99 is :\", logistic31.score(X_val31, Y_val31)) # accuracy\n",
        "print(\"Unigram DTM : Accuracy with random_state number 699 is :\", logistic32.score(X_val32, Y_val32)) # accuracy"
      ],
      "metadata": {
        "colab": {
          "base_uri": "https://localhost:8080/"
        },
        "outputId": "3bac1407-4a7f-40ee-eb40-3505e657ac06",
        "id": "eKUggn04ePIN"
      },
      "execution_count": 40,
      "outputs": [
        {
          "output_type": "stream",
          "name": "stdout",
          "text": [
            "Unigram DTM : Accuracy with random_state number 99 is : 0.8746\n",
            "Unigram DTM : Accuracy with random_state number 218 is : 0.8736\n"
          ]
        }
      ]
    },
    {
      "cell_type": "markdown",
      "source": [
        "Bigram Document Term Matrix(DTM) with random_state = 99 & 699"
      ],
      "metadata": {
        "id": "Ex0eBrZbgG4H"
      }
    },
    {
      "cell_type": "code",
      "source": [
        "from sklearn.model_selection import train_test_split\n",
        "from sklearn.linear_model import LogisticRegression\n",
        "\n",
        "#split the data with different random numbers i.e.random_state = 99 & 699\n",
        "X_train41, X_val41, Y_train41, Y_val41 = train_test_split(train_data_features4, y_train, test_size=0.2, random_state=99)\n",
        "X_train42, X_val42, Y_train42, Y_val42 = train_test_split(train_data_features4, y_train, test_size=0.2, random_state=699)\n",
        "\n",
        "# Initialize a logistic regression model with random_state = 99 & 699\n",
        "logistic41 = LogisticRegression(random_state=99,max_iter=1000)\n",
        "logistic42 = LogisticRegression(random_state=699,max_iter=1000)\n",
        "\n",
        "# Train the model\n",
        "logistic41 = logistic41.fit(X_train41, Y_train41)\n",
        "logistic42 = logistic42.fit(X_train42, Y_train42)\n",
        "\n",
        "# Print score of model(using validation dataset)\n",
        "print(\" Bigram DTM : Accuracy with random_state number 99 is :\", logistic41.score(X_val41, Y_val41)) # accuracy\n",
        "print(\"Bigram DTM : Accuracy with random_state number 699 is :\", logistic42.score(X_val42, Y_val42)) # accuracy"
      ],
      "metadata": {
        "colab": {
          "base_uri": "https://localhost:8080/"
        },
        "outputId": "efe15255-da61-47ca-a8c6-e9832fbe90b8",
        "id": "xao-FnCqgNnn"
      },
      "execution_count": 41,
      "outputs": [
        {
          "output_type": "stream",
          "name": "stdout",
          "text": [
            " Bigram DTM : Accuracy with random_state number 99 is : 0.8426\n",
            "Bigram DTM : Accuracy with random_state number 699 is : 0.834\n"
          ]
        }
      ]
    }
  ]
}