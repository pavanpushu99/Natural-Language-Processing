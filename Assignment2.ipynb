{
  "nbformat": 4,
  "nbformat_minor": 0,
  "metadata": {
    "colab": {
      "provenance": []
    },
    "kernelspec": {
      "name": "python3",
      "display_name": "Python 3"
    },
    "language_info": {
      "name": "python"
    }
  },
  "cells": [
    {
      "cell_type": "markdown",
      "source": [
        "Apply what we learned in this Example 3 to download the mRNA microarray expression data from NCBI (Accession number: GSE14333)\n",
        "\n",
        "http://www.ncbi.nlm.nih.gov/projects/geo/query/acc.cgi?acc=GSE14333.\n",
        "\n",
        "1.Write an automated code to download the url links for all 290 samples from accession GSE14333."
      ],
      "metadata": {
        "id": "BuYi50EhN_9w"
      }
    },
    {
      "cell_type": "code",
      "execution_count": 1,
      "metadata": {
        "colab": {
          "base_uri": "https://localhost:8080/"
        },
        "id": "vv5L3CPP3O2_",
        "outputId": "d106fbfb-be99-44ea-ddb9-a900a6e17760"
      },
      "outputs": [
        {
          "output_type": "stream",
          "name": "stdout",
          "text": [
            "Requirement already satisfied: selenium in /usr/local/lib/python3.10/dist-packages (4.19.0)\n",
            "Requirement already satisfied: urllib3[socks]<3,>=1.26 in /usr/local/lib/python3.10/dist-packages (from selenium) (2.0.7)\n",
            "Requirement already satisfied: trio~=0.17 in /usr/local/lib/python3.10/dist-packages (from selenium) (0.25.0)\n",
            "Requirement already satisfied: trio-websocket~=0.9 in /usr/local/lib/python3.10/dist-packages (from selenium) (0.11.1)\n",
            "Requirement already satisfied: certifi>=2021.10.8 in /usr/local/lib/python3.10/dist-packages (from selenium) (2024.2.2)\n",
            "Requirement already satisfied: typing_extensions>=4.9.0 in /usr/local/lib/python3.10/dist-packages (from selenium) (4.10.0)\n",
            "Requirement already satisfied: attrs>=23.2.0 in /usr/local/lib/python3.10/dist-packages (from trio~=0.17->selenium) (23.2.0)\n",
            "Requirement already satisfied: sortedcontainers in /usr/local/lib/python3.10/dist-packages (from trio~=0.17->selenium) (2.4.0)\n",
            "Requirement already satisfied: idna in /usr/local/lib/python3.10/dist-packages (from trio~=0.17->selenium) (3.6)\n",
            "Requirement already satisfied: outcome in /usr/local/lib/python3.10/dist-packages (from trio~=0.17->selenium) (1.3.0.post0)\n",
            "Requirement already satisfied: sniffio>=1.3.0 in /usr/local/lib/python3.10/dist-packages (from trio~=0.17->selenium) (1.3.1)\n",
            "Requirement already satisfied: exceptiongroup in /usr/local/lib/python3.10/dist-packages (from trio~=0.17->selenium) (1.2.0)\n",
            "Requirement already satisfied: wsproto>=0.14 in /usr/local/lib/python3.10/dist-packages (from trio-websocket~=0.9->selenium) (1.2.0)\n",
            "Requirement already satisfied: pysocks!=1.5.7,<2.0,>=1.5.6 in /usr/local/lib/python3.10/dist-packages (from urllib3[socks]<3,>=1.26->selenium) (1.7.1)\n",
            "Requirement already satisfied: h11<1,>=0.9.0 in /usr/local/lib/python3.10/dist-packages (from wsproto>=0.14->trio-websocket~=0.9->selenium) (0.14.0)\n",
            "Requirement already satisfied: fake_useragent in /usr/local/lib/python3.10/dist-packages (1.5.1)\n"
          ]
        }
      ],
      "source": [
        "!pip install selenium\n",
        "!pip install fake_useragent\n",
        "\n",
        "from selenium import webdriver\n",
        "from selenium.webdriver.common.by import By\n",
        "from selenium.webdriver.support.ui import WebDriverWait\n",
        "from selenium.webdriver.support import expected_conditions as EC\n",
        "import pandas as pd\n",
        "import time\n",
        "from fake_useragent import UserAgent\n",
        "# line 8 - 15 is for letting selenium chrome webdriver to run on Colab\n",
        "ua = UserAgent()\n",
        "userAgent = ua.chrome\n",
        "chrome_options = webdriver.ChromeOptions()\n",
        "chrome_options.add_argument('--headless')\n",
        "chrome_options.add_argument('--no-sandbox')\n",
        "chrome_options.add_argument('--disable-dev-shm-usage')\n",
        "chrome_options.add_argument(f'user-agent={userAgent}')\n",
        "driver = webdriver.Chrome(options=chrome_options)"
      ]
    },
    {
      "cell_type": "code",
      "source": [
        "from urllib.request import urlopen\n",
        "from bs4 import BeautifulSoup\n",
        "\n",
        "url = 'http://www.ncbi.nlm.nih.gov/projects/geo/query/acc.cgi?acc=GSE14333'\n",
        "soup = BeautifulSoup(urlopen(url).read(), 'html.parser')\n",
        "all_a_tags = soup.find_all('a')\n",
        "hrefs = [a_tag.get('href') for a_tag in all_a_tags]\n",
        "\n",
        "sample_url=['https://www.ncbi.nlm.nih.gov'+ keep for keep in hrefs if \\\n",
        "keep.startswith('/geo/query/acc.cgi?acc=GSM')]"
      ],
      "metadata": {
        "id": "4Aid3NjbLOtN"
      },
      "execution_count": 2,
      "outputs": []
    },
    {
      "cell_type": "markdown",
      "source": [
        "2.Write an automated code to download the processed microarray data (i.e., VALUE column: log-base-2 values of quantile normalized MAS5.0 calls) from each sample using the links from previous part. The processed microarray array data is the full data table on the page shown after you click on a sample's link and then click on \"View full table\". There are 54675 probe sets for each sample.\n",
        "\n",
        "3.Export the processed microarry data for all samples as a single csv file with name \"tryityourself3.csv\". The number of columns is 290 and the number of rows is equal to the number of probe sets (54,675). Use the id of the samples as column names (GSE358341, GSE358342, ... etc.) and use the names of probe sets (they are the values under ID_REF) as the row names (i.e., index)."
      ],
      "metadata": {
        "id": "cW-MABrROW9Z"
      }
    },
    {
      "cell_type": "code",
      "source": [
        "from selenium import webdriver\n",
        "from selenium.webdriver.common.by import By\n",
        "import pandas as pd\n",
        "from tqdm import tqdm\n",
        "genotype_call =[]\n",
        "data = {}\n",
        "ua = UserAgent()\n",
        "i = 341\n",
        "for sample in tqdm(sample_url):\n",
        "  values_list = []\n",
        "  id_refs_list = []\n",
        "  userAgent = ua.chrome\n",
        "  chrome_options = webdriver.ChromeOptions()\n",
        "  chrome_options.add_argument('--headless')\n",
        "  chrome_options.add_argument('--no-sandbox')\n",
        "  chrome_options.add_argument('--disable-dev-shm-usage')\n",
        "  chrome_options.add_argument(f'user-agent={userAgent}')\n",
        "  driver = webdriver.Chrome(options=chrome_options)\n",
        "  driver.get(sample)\n",
        "\n",
        "  str1 = '//*[@id=\"ui-ncbiexternallink-1\"]/table/tbody/tr/td/table[6]/tbody/tr[3]/'\n",
        "  str2 = 'td[2]/table/tbody/tr/td/table/tbody/tr/td/table[2]/tbody/tr/td/input'\n",
        "  xpath = str1 + str2\n",
        "  driver.find_element(By.XPATH, xpath).click()\n",
        "\n",
        "  window_handles = driver.window_handles\n",
        "  child = window_handles[1]\n",
        "  driver.switch_to.window(child)\n",
        "\n",
        "  geno_call = driver.find_element(By.TAG_NAME, 'pre').text\n",
        "\n",
        "  l =  [line for line in geno_call.split('\\n') if 'ID_REF' not in line]\n",
        "\n",
        "  for line in l[1:]:\n",
        "    splits = line.split()\n",
        "    if len(splits) >= 2:\n",
        "      id_ref = splits[0]\n",
        "      values_list.append(splits[1:])\n",
        "      id_refs_list.append(id_ref)\n",
        "\n",
        "  x = 'GSM358' + str(i)\n",
        "  data[x] = values_list\n",
        "  i+=1\n",
        "  driver.quit()\n",
        "\n",
        "df = pd.DataFrame(data,index=id_refs_list)\n",
        "df.to_excel('tryityourself3.xlsx',index_label = 'ID_REF')"
      ],
      "metadata": {
        "colab": {
          "base_uri": "https://localhost:8080/"
        },
        "id": "0xodqr06Ib-a",
        "outputId": "b8786cf2-4808-405a-aa07-ba5059a0e116"
      },
      "execution_count": 12,
      "outputs": [
        {
          "output_type": "stream",
          "name": "stderr",
          "text": [
            "100%|██████████| 290/290 [18:00<00:00,  3.73s/it]\n"
          ]
        }
      ]
    }
  ]
}